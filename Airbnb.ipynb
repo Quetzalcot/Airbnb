{
 "cells": [
  {
   "cell_type": "markdown",
   "id": "20ed4fa6",
   "metadata": {},
   "source": [
    "# Phân Tích Dữ Liệu Airbnb TPHCM: Giá Thuê, Loại Căn Hộ và Phân Bố \n",
    "## 1. Giới thiệu về dự án\n",
    "Dự án này tập trung vào việc phân tích dữ liệu về các căn hộ được thuê qua Airbnb tại TPHCM. Dữ liệu bao gồm các thông tin như giá thuê, số lượng phòng (phòng khách, phòng ngủ, phòng tắm), số giường ngủ và điểm đánh giá của mỗi căn hộ. Bằng cách khai thác và trực quan hóa dữ liệu này, dự án nhằm mang lại cái nhìn tổng quan về thị trường thuê căn hộ Airbnb trong khu vực, giúp khách hàng có nhu cầu thuê căn hộ dễ đưa ra quyết định hơn.\n",
    "\n",
    "## 2. Mục tiêu của dự án\n",
    "- Thu thập dữ liệu từ trang web của airbnb và làm sạch dữ liệu.\n",
    "- Phân tích sự phân bổ của các loại căn hộ theo từng khu vực (quận) trong thành phố.\n",
    "- Xác định loại căn hộ phổ biến nhất.\n",
    "- Trực quan hóa dữ liệu bằng Power BI để đưa ra những thông tin quan trọng.\n",
    "\n",
    "## 3. Lấy dữ liệu\n",
    "[Code lấy dữ liệu sử dụng Selenium](Sele.py)\n",
    "![Dữ liệu lấy được](listroom.PNG)\n",
    "\n",
    "## 4. Làm sạch dữ liệu bằng PowerQuery\n",
    "###  - Loại bỏ các dòng không có Price và chuyển định dạng cột Price về kiểu số\n",
    "![Loại bỏ Price NA](clean1.PNG)\n",
    "###  - Chuẩn hóa cột Location\n",
    "\n",
    "+ Bình Trưng Tây, Binh Trung Tay, Thành Phố Thủ Đức, Long Bình -> Thủ Đức\n",
    "+ Tân An Hội -> Củ Chi\n",
    "+ Nguyễn Thái Bình, Đa Kao, Công Giang, Bến Nghé, District 1 -> Quận 1\n",
    "+ Thảo Điền -> Quận 2\n",
    "+ District 4 -> Quận 4\n",
    "+ Tân Hưng -> Quận 7\n",
    "+ Còn lại -> Other\n",
    "![Chuẩn hóa Locate](clean2.PNG)\n",
    "\n",
    "\n",
    "###  - Chuẩn hóa cột Rate\n",
    "+ Chuyển cột Rate về dạng số thực\n",
    "+ Thay giá trị NA bằng trung bình cột Rate (4.38)\n",
    "![Chuẩn hóa cột Rate](clean3.PNG)\n",
    "\n",
    "\n",
    "###  - Tạo cột Type (loại phòng) bằng cách ghép 4 cột LivingRoom, Bedroom, Bed, Bath\n",
    "\n",
    "![Tạo côt Type](clean4.PNG)\n",
    "\n",
    "### [- Dữ liệu sau khi làm sạch](clean_listroom.csv)\n",
    "\n",
    "## 4. Tạo Dashboard để trực quan bằng PowerBI\n",
    "\n",
    "![Dashboard](dashboard.PNG)\n"
   ]
  }
 ],
 "metadata": {
  "kernelspec": {
   "display_name": "Python 3",
   "language": "python",
   "name": "python3"
  },
  "language_info": {
   "codemirror_mode": {
    "name": "ipython",
    "version": 3
   },
   "file_extension": ".py",
   "mimetype": "text/x-python",
   "name": "python",
   "nbconvert_exporter": "python",
   "pygments_lexer": "ipython3",
   "version": "3.6.8"
  }
 },
 "nbformat": 4,
 "nbformat_minor": 5
}
